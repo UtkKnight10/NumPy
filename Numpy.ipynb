{
  "nbformat": 4,
  "nbformat_minor": 0,
  "metadata": {
    "colab": {
      "provenance": [],
      "authorship_tag": "ABX9TyPV9zpfbqciBa+IVO+GzEbW",
      "include_colab_link": true
    },
    "kernelspec": {
      "name": "python3",
      "display_name": "Python 3"
    },
    "language_info": {
      "name": "python"
    }
  },
  "cells": [
    {
      "cell_type": "markdown",
      "metadata": {
        "id": "view-in-github",
        "colab_type": "text"
      },
      "source": [
        "<a href=\"https://colab.research.google.com/github/UtkKnight10/NumPy/blob/main/Numpy.ipynb\" target=\"_parent\"><img src=\"https://colab.research.google.com/assets/colab-badge.svg\" alt=\"Open In Colab\"/></a>"
      ]
    },
    {
      "cell_type": "markdown",
      "source": [
        "## **What is NumPy?**"
      ],
      "metadata": {
        "id": "aK4fRYcdoi9U"
      }
    },
    {
      "cell_type": "markdown",
      "source": [
        "* Numpy is a multi-dimensional array library\n",
        "* We can store 1D, 2D, 3D,.... upto N-Dimensional arrays"
      ],
      "metadata": {
        "id": "wkUj2r-UorET"
      }
    },
    {
      "cell_type": "markdown",
      "source": [
        "## **How are Lists diferent from NumPy?**"
      ],
      "metadata": {
        "id": "QE3SOYiVpITj"
      }
    },
    {
      "cell_type": "markdown",
      "source": [
        "#####  Lets say we have a (3X4) metrix with all integer values => [[3, 1, 2, 4],[**5**, 7, 1, 2][4, 1, 0, 1]]\n",
        "\n",
        "* lets take 5 from the metrix and see how it is stored in the numpy array and lists\n",
        "\n",
        "* **In numpy 5 ==> 00000101(Binary) ==> 00000000 00000000 00000000 00000101(Int32)**\n",
        "\n",
        "* **In Lists 5==> 00000101 ==> Need lot more information to store this integer**\n",
        "#### Lists uses built-in int type it consists of 4 things\n",
        "##### **Size**:- Size of the integer value\n",
        "##### **Reference Count**:- How many times that integer is being pointed at\n",
        "##### **Object Type**:-\n",
        "##### **Object Value**:- it has its own bits assosiated with it\n",
        "\n",
        "* In Lists **5 ==> 00000000 00000000 00000000 00011100(Size)**\n",
        "##### **00000001 00111101 11111110 10111100 00011010 11011101 10100100 11011000(Reference Count)**\n",
        "##### **11001010 10111110 01100001 01000100 11111100 00000000 11001100 01011111(Object Type)**\n",
        "##### **00000000 00000000 00000000 00000000 00000000 00000000 00000000 00000101(Object Value)**"
      ],
      "metadata": {
        "id": "gQY3efMZxOIC"
      }
    },
    {
      "cell_type": "markdown",
      "source": [
        "##### **Benefits of Contiguous Memory**\n",
        "* SIMD Vector Processing\n",
        "* Effective Cache Utilization"
      ],
      "metadata": {
        "id": "4aQ6K_rVyPdp"
      }
    },
    {
      "cell_type": "markdown",
      "source": [
        "### **Lists**\n",
        "* Lists are slower because its takes lot more space than numpy\n",
        "* Each element has to be type checked while iterating through it\n",
        "* Lists doesnt ustilize Contiguous memory\n",
        "##### The list is actually containing pointer to the actual information scattered around the computer memory\n",
        "* Insertion, deletion, appending, concatination, etc.\n",
        "\n",
        "### **NumPy**\n",
        "* NumPy is faster than lists because numpy uses fixed types\n",
        "* NumPy doesn't requires type checking\n",
        "* Numpy utilizes Contiguous Memory\n",
        "##### All the elements of the array are stored next to each other in the computer memory\n",
        "* Insertion, deletion, appending, concatination, etc. and lots more"
      ],
      "metadata": {
        "id": "DOTW-pThpTzi"
      }
    },
    {
      "cell_type": "markdown",
      "source": [
        "### **Application of NumPy?**\n",
        "* Mathematics (MATLAB Replacement)\n",
        "* Plotting (Matplolib)\n",
        "* Backend (Pandas, Connect4, Digital Photography)\n",
        "* Machine Learning"
      ],
      "metadata": {
        "id": "u6Lu0gZ30VWG"
      }
    },
    {
      "cell_type": "markdown",
      "source": [
        "## **Load in NumPy(remember to pip install numpy first)**"
      ],
      "metadata": {
        "id": "Wqgbron5n3hb"
      }
    },
    {
      "cell_type": "code",
      "execution_count": 1,
      "metadata": {
        "id": "OTxCiRHYnxKd"
      },
      "outputs": [],
      "source": [
        "import numpy as np\n",
        "import sys"
      ]
    },
    {
      "cell_type": "markdown",
      "source": [
        "## **The Basics**"
      ],
      "metadata": {
        "id": "qMmdIpAmoNZs"
      }
    },
    {
      "cell_type": "markdown",
      "source": [
        "#### **Initialize the array**"
      ],
      "metadata": {
        "id": "Jg3eS2z51Kxe"
      }
    },
    {
      "cell_type": "code",
      "source": [
        "a = np.array([1,2,3], dtype='int32') # dtype specify the type of int to be stored\n",
        "print(a)"
      ],
      "metadata": {
        "colab": {
          "base_uri": "https://localhost:8080/"
        },
        "id": "IibnGCKBoMwY",
        "outputId": "1852ec16-0241-4fd3-e2f5-295b34f8af5b"
      },
      "execution_count": 2,
      "outputs": [
        {
          "output_type": "stream",
          "name": "stdout",
          "text": [
            "[1 2 3]\n"
          ]
        }
      ]
    },
    {
      "cell_type": "code",
      "source": [
        "b = np.array([[9.0,8.0,7.0],[6.0,5.0,4.0]])\n",
        "print(b)"
      ],
      "metadata": {
        "colab": {
          "base_uri": "https://localhost:8080/"
        },
        "id": "fPHAxNj31TUj",
        "outputId": "b572a57e-0f61-482d-dec5-b28799e33f45"
      },
      "execution_count": 3,
      "outputs": [
        {
          "output_type": "stream",
          "name": "stdout",
          "text": [
            "[[9. 8. 7.]\n",
            " [6. 5. 4.]]\n"
          ]
        }
      ]
    },
    {
      "cell_type": "code",
      "source": [
        "# Get the dimensions\n",
        "print(\"dimensions of a-> \",a.ndim)\n",
        "print(\"dimensions of b-> \",b.ndim)"
      ],
      "metadata": {
        "colab": {
          "base_uri": "https://localhost:8080/"
        },
        "id": "jil-YUyg1eMj",
        "outputId": "57c7f2df-1b96-426e-c711-6c2a550f36ca"
      },
      "execution_count": 4,
      "outputs": [
        {
          "output_type": "stream",
          "name": "stdout",
          "text": [
            "dimensions of a->  1\n",
            "dimensions of b->  2\n"
          ]
        }
      ]
    },
    {
      "cell_type": "code",
      "source": [
        "# Get shape\n",
        "print(\"Shape of a-> \",a.shape)\n",
        "print(\"Shape of b-> \",b.shape)"
      ],
      "metadata": {
        "colab": {
          "base_uri": "https://localhost:8080/"
        },
        "id": "XtWlhLW31pcN",
        "outputId": "73e17f08-1ce2-4027-a91b-4e1447c282e4"
      },
      "execution_count": 5,
      "outputs": [
        {
          "output_type": "stream",
          "name": "stdout",
          "text": [
            "Shape of a->  (3,)\n",
            "Shape of b->  (2, 3)\n"
          ]
        }
      ]
    },
    {
      "cell_type": "code",
      "source": [
        "# Get Type\n",
        "print(\"Type of a-> \",a.dtype)\n",
        "print(\"Type of b-> \",b.dtype)"
      ],
      "metadata": {
        "colab": {
          "base_uri": "https://localhost:8080/"
        },
        "id": "8u3PqiWJ19ID",
        "outputId": "e19cd344-7307-4164-fba5-516f193f738c"
      },
      "execution_count": 6,
      "outputs": [
        {
          "output_type": "stream",
          "name": "stdout",
          "text": [
            "Type of a->  int32\n",
            "Type of b->  float64\n"
          ]
        }
      ]
    },
    {
      "cell_type": "code",
      "source": [
        "# Get size\n",
        "print(\"Size of a->\", a.itemsize)\n",
        "print(\"Size of b->\", b.itemsize)"
      ],
      "metadata": {
        "colab": {
          "base_uri": "https://localhost:8080/"
        },
        "id": "wDp4GBHo2RP0",
        "outputId": "f1f18902-f56f-42e4-ae17-80b9faefb59e"
      },
      "execution_count": 7,
      "outputs": [
        {
          "output_type": "stream",
          "name": "stdout",
          "text": [
            "Size of a-> 4\n",
            "Size of b-> 8\n"
          ]
        }
      ]
    },
    {
      "cell_type": "code",
      "source": [
        "# Get total size\n",
        "total_size = a.size * a.itemsize\n",
        "print(\"Total size of a-> \",total_size)\n",
        "total_size = b.size * b.itemsize\n",
        "print(\"Total size of b-> \",total_size)"
      ],
      "metadata": {
        "colab": {
          "base_uri": "https://localhost:8080/"
        },
        "id": "RlEOHd882oPQ",
        "outputId": "5b8b8e52-7c24-4498-c47a-0b03e3a43df3"
      },
      "execution_count": 8,
      "outputs": [
        {
          "output_type": "stream",
          "name": "stdout",
          "text": [
            "Total size of a->  12\n",
            "Total size of b->  48\n"
          ]
        }
      ]
    },
    {
      "cell_type": "code",
      "source": [
        "# alternate\n",
        "a.nbytes"
      ],
      "metadata": {
        "colab": {
          "base_uri": "https://localhost:8080/"
        },
        "id": "daa84pmL3BY0",
        "outputId": "fedb02e4-be2a-4a97-f010-1582712b68a9"
      },
      "execution_count": 9,
      "outputs": [
        {
          "output_type": "execute_result",
          "data": {
            "text/plain": [
              "12"
            ]
          },
          "metadata": {},
          "execution_count": 9
        }
      ]
    },
    {
      "cell_type": "markdown",
      "source": [
        "#### **Accessing/ Changing specific elements, rows, columns, etc.**"
      ],
      "metadata": {
        "id": "LdCYvZMv3cw0"
      }
    },
    {
      "cell_type": "code",
      "source": [
        "a = np.array([[1,2,3,4,5,6,7],[8,9,10,11,12,13,14]])\n",
        "print(a)"
      ],
      "metadata": {
        "colab": {
          "base_uri": "https://localhost:8080/"
        },
        "id": "Wcp50WpU3P5J",
        "outputId": "8563fd96-5fa8-48ce-b6c7-066926e3aeba"
      },
      "execution_count": 10,
      "outputs": [
        {
          "output_type": "stream",
          "name": "stdout",
          "text": [
            "[[ 1  2  3  4  5  6  7]\n",
            " [ 8  9 10 11 12 13 14]]\n"
          ]
        }
      ]
    },
    {
      "cell_type": "code",
      "source": [
        "# get a specific element [r, c]\n",
        "a[1, 5]"
      ],
      "metadata": {
        "colab": {
          "base_uri": "https://localhost:8080/"
        },
        "id": "sfiDQw1n3ux-",
        "outputId": "2c4299f3-5357-4278-8d6d-9e9b69b79fa4"
      },
      "execution_count": 11,
      "outputs": [
        {
          "output_type": "execute_result",
          "data": {
            "text/plain": [
              "13"
            ]
          },
          "metadata": {},
          "execution_count": 11
        }
      ]
    },
    {
      "cell_type": "code",
      "source": [
        "# Get specific row\n",
        "a[0, :]"
      ],
      "metadata": {
        "colab": {
          "base_uri": "https://localhost:8080/"
        },
        "id": "Z6QV3-wc35tu",
        "outputId": "09c5fa54-6f07-4798-f271-ef316fe4d0ab"
      },
      "execution_count": 12,
      "outputs": [
        {
          "output_type": "execute_result",
          "data": {
            "text/plain": [
              "array([1, 2, 3, 4, 5, 6, 7])"
            ]
          },
          "metadata": {},
          "execution_count": 12
        }
      ]
    },
    {
      "cell_type": "code",
      "source": [
        "# Get a specific column\n",
        "a[:, 2]"
      ],
      "metadata": {
        "colab": {
          "base_uri": "https://localhost:8080/"
        },
        "id": "8qFkESAj4C2k",
        "outputId": "c2c2b7c1-7591-4711-9865-3b884416db64"
      },
      "execution_count": 13,
      "outputs": [
        {
          "output_type": "execute_result",
          "data": {
            "text/plain": [
              "array([ 3, 10])"
            ]
          },
          "metadata": {},
          "execution_count": 13
        }
      ]
    },
    {
      "cell_type": "code",
      "source": [
        "# Getting a little more fancy [start index: stepsize]\n",
        "# every other element between 2 and 6\n",
        "a[0, 1:-1:2]"
      ],
      "metadata": {
        "colab": {
          "base_uri": "https://localhost:8080/"
        },
        "id": "SmlNGlvz4JUf",
        "outputId": "04dc5794-ac24-4d52-e4a1-ad46e53a009e"
      },
      "execution_count": 14,
      "outputs": [
        {
          "output_type": "execute_result",
          "data": {
            "text/plain": [
              "array([2, 4, 6])"
            ]
          },
          "metadata": {},
          "execution_count": 14
        }
      ]
    },
    {
      "cell_type": "code",
      "source": [
        "# Changing the specific element value\n",
        "a[1,5] = 20\n",
        "print(a)"
      ],
      "metadata": {
        "colab": {
          "base_uri": "https://localhost:8080/"
        },
        "id": "m1bShEk54n-N",
        "outputId": "123c2435-2df9-4273-b842-bd222082ea9b"
      },
      "execution_count": 15,
      "outputs": [
        {
          "output_type": "stream",
          "name": "stdout",
          "text": [
            "[[ 1  2  3  4  5  6  7]\n",
            " [ 8  9 10 11 12 20 14]]\n"
          ]
        }
      ]
    },
    {
      "cell_type": "code",
      "source": [
        "# Chnaing entire column\n",
        "a[:, 2] = [1,2]\n",
        "print(a)"
      ],
      "metadata": {
        "colab": {
          "base_uri": "https://localhost:8080/"
        },
        "id": "FikAfsw84-gY",
        "outputId": "5fdabfca-05d2-4cc9-acc2-9467cc3d4a24"
      },
      "execution_count": 16,
      "outputs": [
        {
          "output_type": "stream",
          "name": "stdout",
          "text": [
            "[[ 1  2  1  4  5  6  7]\n",
            " [ 8  9  2 11 12 20 14]]\n"
          ]
        }
      ]
    },
    {
      "cell_type": "code",
      "source": [
        "# Changing entire row\n",
        "a[1, :] = 5\n",
        "print(a)"
      ],
      "metadata": {
        "colab": {
          "base_uri": "https://localhost:8080/"
        },
        "id": "nRdjch5X5G9U",
        "outputId": "286c3ce0-43aa-48c5-d311-84d58174acc2"
      },
      "execution_count": 17,
      "outputs": [
        {
          "output_type": "stream",
          "name": "stdout",
          "text": [
            "[[1 2 1 4 5 6 7]\n",
            " [5 5 5 5 5 5 5]]\n"
          ]
        }
      ]
    },
    {
      "cell_type": "markdown",
      "source": [
        "##### 3d example"
      ],
      "metadata": {
        "id": "fYXxPAT65oi5"
      }
    },
    {
      "cell_type": "code",
      "source": [
        "b = np.array([[[1,2],[3,4]],[[5,6],[7,8]]])\n",
        "print(b)"
      ],
      "metadata": {
        "colab": {
          "base_uri": "https://localhost:8080/"
        },
        "id": "IcuSPWrp5bSF",
        "outputId": "7664b881-5ee3-4b2d-ded8-2d37d9e4af54"
      },
      "execution_count": 18,
      "outputs": [
        {
          "output_type": "stream",
          "name": "stdout",
          "text": [
            "[[[1 2]\n",
            "  [3 4]]\n",
            "\n",
            " [[5 6]\n",
            "  [7 8]]]\n"
          ]
        }
      ]
    },
    {
      "cell_type": "code",
      "source": [
        "# Getting specific element (work outside in)\n",
        "# want the 4 in the array\n",
        "print(b[0,1,1])\n",
        "print(\"-------------------------------------\")\n",
        "# Want a specific range of elements\n",
        "print(b[:,1,:])"
      ],
      "metadata": {
        "colab": {
          "base_uri": "https://localhost:8080/"
        },
        "id": "8d8v-Iw75u4x",
        "outputId": "d4bbb0da-2cc1-4d41-d204-fb07d7fa911f"
      },
      "execution_count": 19,
      "outputs": [
        {
          "output_type": "stream",
          "name": "stdout",
          "text": [
            "4\n",
            "-------------------------------------\n",
            "[[3 4]\n",
            " [7 8]]\n"
          ]
        }
      ]
    },
    {
      "cell_type": "code",
      "source": [
        "# Replace\n",
        "b[:,1,:] = [[9,9],[8,8]]\n",
        "print(b)"
      ],
      "metadata": {
        "colab": {
          "base_uri": "https://localhost:8080/"
        },
        "id": "h207p9Fq6Jw7",
        "outputId": "667d02c6-03e4-4507-9f01-4c84aa307dac"
      },
      "execution_count": 20,
      "outputs": [
        {
          "output_type": "stream",
          "name": "stdout",
          "text": [
            "[[[1 2]\n",
            "  [9 9]]\n",
            "\n",
            " [[5 6]\n",
            "  [8 8]]]\n"
          ]
        }
      ]
    },
    {
      "cell_type": "markdown",
      "source": [
        "#### **Initialize Different Types of Array**"
      ],
      "metadata": {
        "id": "A4DHaCBq7h6-"
      }
    },
    {
      "cell_type": "code",
      "source": [
        "# All 0s matrix:\n",
        "np.zeros((2,3))"
      ],
      "metadata": {
        "colab": {
          "base_uri": "https://localhost:8080/"
        },
        "id": "3CsUZg_u7G0q",
        "outputId": "4ede9d22-4e61-4628-dbc8-193dfdc2fab9"
      },
      "execution_count": 21,
      "outputs": [
        {
          "output_type": "execute_result",
          "data": {
            "text/plain": [
              "array([[0., 0., 0.],\n",
              "       [0., 0., 0.]])"
            ]
          },
          "metadata": {},
          "execution_count": 21
        }
      ]
    },
    {
      "cell_type": "code",
      "source": [
        "# All 1s matrix:\n",
        "np.ones((4,2,2), dtype='int32') # dtype specify the data type of the integer"
      ],
      "metadata": {
        "colab": {
          "base_uri": "https://localhost:8080/"
        },
        "id": "zVQ5xK0h7uG1",
        "outputId": "24f6f940-b687-4185-e0c4-85f2e718511a"
      },
      "execution_count": 22,
      "outputs": [
        {
          "output_type": "execute_result",
          "data": {
            "text/plain": [
              "array([[[1, 1],\n",
              "        [1, 1]],\n",
              "\n",
              "       [[1, 1],\n",
              "        [1, 1]],\n",
              "\n",
              "       [[1, 1],\n",
              "        [1, 1]],\n",
              "\n",
              "       [[1, 1],\n",
              "        [1, 1]]], dtype=int32)"
            ]
          },
          "metadata": {},
          "execution_count": 22
        }
      ]
    },
    {
      "cell_type": "code",
      "source": [
        "# Any other number\n",
        "# np.full takes mainly 2 parameters -> shape and value# Two parameters -> shape and value\n",
        "# np.full(shape, value)\n",
        "# can have third parameter-> dtype\n",
        "# np.full(shape, value, dtype)\n",
        "np.full((2,2), 99)"
      ],
      "metadata": {
        "colab": {
          "base_uri": "https://localhost:8080/"
        },
        "id": "U1IBx41E78p7",
        "outputId": "500fdf25-bea2-4678-af30-0fa903fd0885"
      },
      "execution_count": 23,
      "outputs": [
        {
          "output_type": "execute_result",
          "data": {
            "text/plain": [
              "array([[99, 99],\n",
              "       [99, 99]])"
            ]
          },
          "metadata": {},
          "execution_count": 23
        }
      ]
    },
    {
      "cell_type": "code",
      "source": [
        "# Any other number (full_like)\n",
        "np.full_like(a, 4)"
      ],
      "metadata": {
        "id": "OGmBUYzD8Qs5",
        "colab": {
          "base_uri": "https://localhost:8080/"
        },
        "outputId": "94cd53cf-97d3-4baa-ae87-1ae805fb650e"
      },
      "execution_count": 27,
      "outputs": [
        {
          "output_type": "execute_result",
          "data": {
            "text/plain": [
              "array([[4, 4, 4, 4, 4, 4, 4],\n",
              "       [4, 4, 4, 4, 4, 4, 4]])"
            ]
          },
          "metadata": {},
          "execution_count": 27
        }
      ]
    },
    {
      "cell_type": "code",
      "source": [
        "# If full_like not used then have to use a.shape instead of a\n",
        "np.full(a.shape, 4)"
      ],
      "metadata": {
        "colab": {
          "base_uri": "https://localhost:8080/"
        },
        "id": "kP8bbH9r5e4V",
        "outputId": "d92e4b91-db4e-41ba-926a-a2065096bce7"
      },
      "execution_count": 28,
      "outputs": [
        {
          "output_type": "execute_result",
          "data": {
            "text/plain": [
              "array([[4, 4, 4, 4, 4, 4, 4],\n",
              "       [4, 4, 4, 4, 4, 4, 4]])"
            ]
          },
          "metadata": {},
          "execution_count": 28
        }
      ]
    },
    {
      "cell_type": "code",
      "source": [
        "# Random decimal numbers\n",
        "np.random.rand(4,2,3)"
      ],
      "metadata": {
        "colab": {
          "base_uri": "https://localhost:8080/"
        },
        "id": "VGQwiGaS50Pt",
        "outputId": "3f5e3ae3-c4bc-4b11-893a-643f43995e1a"
      },
      "execution_count": 30,
      "outputs": [
        {
          "output_type": "execute_result",
          "data": {
            "text/plain": [
              "array([[[0.66863596, 0.35316944, 0.19432123],\n",
              "        [0.9937209 , 0.59594907, 0.17376404]],\n",
              "\n",
              "       [[0.23808371, 0.26083356, 0.84329362],\n",
              "        [0.59575956, 0.8739803 , 0.83617055]],\n",
              "\n",
              "       [[0.36883029, 0.67596912, 0.0111313 ],\n",
              "        [0.26576892, 0.86727994, 0.37388705]],\n",
              "\n",
              "       [[0.63737266, 0.99097049, 0.49750655],\n",
              "        [0.48478708, 0.50419457, 0.61914828]]])"
            ]
          },
          "metadata": {},
          "execution_count": 30
        }
      ]
    },
    {
      "cell_type": "code",
      "source": [
        "# want to pass the shape as parameter\n",
        "np.random.random_sample(a.shape)"
      ],
      "metadata": {
        "colab": {
          "base_uri": "https://localhost:8080/"
        },
        "id": "LEFWbiBK6Al8",
        "outputId": "cd653286-c3ba-4d2f-ddfd-551ec45bf547"
      },
      "execution_count": 31,
      "outputs": [
        {
          "output_type": "execute_result",
          "data": {
            "text/plain": [
              "array([[0.78912216, 0.80896131, 0.43350329, 0.01811451, 0.70151881,\n",
              "        0.07410401, 0.38428749],\n",
              "       [0.36764946, 0.50680985, 0.83539118, 0.9287398 , 0.51949413,\n",
              "        0.67931782, 0.4347097 ]])"
            ]
          },
          "metadata": {},
          "execution_count": 31
        }
      ]
    },
    {
      "cell_type": "code",
      "source": [
        "# Random integer values\n",
        "np.random.randint(-4,8, size=(3,3))"
      ],
      "metadata": {
        "colab": {
          "base_uri": "https://localhost:8080/"
        },
        "id": "izC3bzqj6UVj",
        "outputId": "474df9ec-53d4-4706-b75d-e1af487c054b"
      },
      "execution_count": 35,
      "outputs": [
        {
          "output_type": "execute_result",
          "data": {
            "text/plain": [
              "array([[ 4,  2,  7],\n",
              "       [ 0,  6, -4],\n",
              "       [ 3,  2,  6]])"
            ]
          },
          "metadata": {},
          "execution_count": 35
        }
      ]
    },
    {
      "cell_type": "code",
      "source": [
        "# The identity matrix\n",
        "# np.identity(5) here 5 = number of rows = number of columns\n",
        "# as identity matrix is a square matrix therefor the number of rows and columns are equal\n",
        "np.identity(5)"
      ],
      "metadata": {
        "colab": {
          "base_uri": "https://localhost:8080/"
        },
        "id": "h5ZwMybv6fPP",
        "outputId": "14882ba1-0ee7-44aa-c150-b55256c984e2"
      },
      "execution_count": 37,
      "outputs": [
        {
          "output_type": "execute_result",
          "data": {
            "text/plain": [
              "array([[1., 0., 0., 0., 0.],\n",
              "       [0., 1., 0., 0., 0.],\n",
              "       [0., 0., 1., 0., 0.],\n",
              "       [0., 0., 0., 1., 0.],\n",
              "       [0., 0., 0., 0., 1.]])"
            ]
          },
          "metadata": {},
          "execution_count": 37
        }
      ]
    },
    {
      "cell_type": "code",
      "source": [
        "# repeat an existing array\n",
        "arr = np.array([[1,2,3]])\n",
        "r1 = np.repeat(arr, 3, axis=0)\n",
        "print(r1)"
      ],
      "metadata": {
        "colab": {
          "base_uri": "https://localhost:8080/"
        },
        "id": "Mb22N3Co67IE",
        "outputId": "dfc7349d-5a94-4110-cfeb-4d6d9a0ed1f7"
      },
      "execution_count": 41,
      "outputs": [
        {
          "output_type": "stream",
          "name": "stdout",
          "text": [
            "[[1 2 3]\n",
            " [1 2 3]\n",
            " [1 2 3]]\n"
          ]
        }
      ]
    },
    {
      "cell_type": "markdown",
      "source": [
        "## Initialize a array\n",
        "![Annotation 2024-07-11 092910.png](data:image/png;base64,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)"
      ],
      "metadata": {
        "id": "fCwT5D35758c"
      }
    },
    {
      "cell_type": "code",
      "source": [],
      "metadata": {
        "id": "PBg8oG1T7o1l"
      },
      "execution_count": null,
      "outputs": []
    }
  ]
}