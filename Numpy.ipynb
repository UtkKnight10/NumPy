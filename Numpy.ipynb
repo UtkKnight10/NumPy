{
  "nbformat": 4,
  "nbformat_minor": 0,
  "metadata": {
    "colab": {
      "provenance": [],
      "authorship_tag": "ABX9TyOFbGL3fGfns21osBSfnie7",
      "include_colab_link": true
    },
    "kernelspec": {
      "name": "python3",
      "display_name": "Python 3"
    },
    "language_info": {
      "name": "python"
    }
  },
  "cells": [
    {
      "cell_type": "markdown",
      "metadata": {
        "id": "view-in-github",
        "colab_type": "text"
      },
      "source": [
        "<a href=\"https://colab.research.google.com/github/UtkKnight10/NumPy/blob/main/Numpy.ipynb\" target=\"_parent\"><img src=\"https://colab.research.google.com/assets/colab-badge.svg\" alt=\"Open In Colab\"/></a>"
      ]
    },
    {
      "cell_type": "markdown",
      "source": [
        "## **What is NumPy?**"
      ],
      "metadata": {
        "id": "aK4fRYcdoi9U"
      }
    },
    {
      "cell_type": "markdown",
      "source": [
        "* Numpy is a multi-dimensional array library\n",
        "* We can store 1D, 2D, 3D,.... upto N-Dimensional arrays"
      ],
      "metadata": {
        "id": "wkUj2r-UorET"
      }
    },
    {
      "cell_type": "markdown",
      "source": [
        "## **How are Lists diferent from NumPy?**"
      ],
      "metadata": {
        "id": "QE3SOYiVpITj"
      }
    },
    {
      "cell_type": "markdown",
      "source": [
        "#####  Lets say we have a (3X4) metrix with all integer values => [[3, 1, 2, 4],[**5**, 7, 1, 2][4, 1, 0, 1]]\n",
        "\n",
        "* lets take 5 from the metrix and see how it is stored in the numpy array and lists\n",
        "\n",
        "* **In numpy 5 ==> 00000101(Binary) ==> 00000000 00000000 00000000 00000101(Int32)**\n",
        "\n",
        "* **In Lists 5==> 00000101 ==> Need lot more information to store this integer**\n",
        "#### Lists uses built-in int type it consists of 4 things\n",
        "##### **Size**:- Size of the integer value\n",
        "##### **Reference Count**:- How many times that integer is being pointed at\n",
        "##### **Object Type**:-\n",
        "##### **Object Value**:- it has its own bits assosiated with it\n",
        "\n",
        "* In Lists **5 ==> 00000000 00000000 00000000 00011100(Size)**\n",
        "##### **00000001 00111101 11111110 10111100 00011010 11011101 10100100 11011000(Reference Count)**\n",
        "##### **11001010 10111110 01100001 01000100 11111100 00000000 11001100 01011111(Object Type)**\n",
        "##### **00000000 00000000 00000000 00000000 00000000 00000000 00000000 00000101(Object Value)**"
      ],
      "metadata": {
        "id": "gQY3efMZxOIC"
      }
    },
    {
      "cell_type": "markdown",
      "source": [
        "##### **Benefits of Contiguous Memory**\n",
        "* SIMD Vector Processing\n",
        "* Effective Cache Utilization"
      ],
      "metadata": {
        "id": "4aQ6K_rVyPdp"
      }
    },
    {
      "cell_type": "markdown",
      "source": [
        "### **Lists**\n",
        "* Lists are slower because its takes lot more space than numpy\n",
        "* Each element has to be type checked while iterating through it\n",
        "* Lists doesnt ustilize Contiguous memory\n",
        "##### The list is actually containing pointer to the actual information scattered around the computer memory\n",
        "* Insertion, deletion, appending, concatination, etc.\n",
        "\n",
        "### **NumPy**\n",
        "* NumPy is faster than lists because numpy uses fixed types\n",
        "* NumPy doesn't requires type checking\n",
        "* Numpy utilizes Contiguous Memory\n",
        "##### All the elements of the array are stored next to each other in the computer memory\n",
        "* Insertion, deletion, appending, concatination, etc. and lots more"
      ],
      "metadata": {
        "id": "DOTW-pThpTzi"
      }
    },
    {
      "cell_type": "markdown",
      "source": [
        "### **Application of NumPy?**\n",
        "* Mathematics (MATLAB Replacement)\n",
        "* Plotting (Matplolib)\n",
        "* Backend (Pandas, Connect4, Digital Photography)\n",
        "* Machine Learning"
      ],
      "metadata": {
        "id": "u6Lu0gZ30VWG"
      }
    },
    {
      "cell_type": "markdown",
      "source": [
        "## **Load in NumPy(remember to pip install numpy first)**"
      ],
      "metadata": {
        "id": "Wqgbron5n3hb"
      }
    },
    {
      "cell_type": "code",
      "execution_count": null,
      "metadata": {
        "id": "OTxCiRHYnxKd"
      },
      "outputs": [],
      "source": [
        "import numpy as np\n",
        "import sys"
      ]
    },
    {
      "cell_type": "markdown",
      "source": [
        "## **The Basics**"
      ],
      "metadata": {
        "id": "qMmdIpAmoNZs"
      }
    },
    {
      "cell_type": "markdown",
      "source": [
        "#### **Initialize the array**"
      ],
      "metadata": {
        "id": "Jg3eS2z51Kxe"
      }
    },
    {
      "cell_type": "code",
      "source": [
        "a = np.array([1,2,3], dtype='int32') # dtype specify the type of int to be stored\n",
        "print(a)"
      ],
      "metadata": {
        "colab": {
          "base_uri": "https://localhost:8080/"
        },
        "id": "IibnGCKBoMwY",
        "outputId": "1b3c447a-f04c-4dd6-eee6-64b8c2fe2953"
      },
      "execution_count": null,
      "outputs": [
        {
          "output_type": "stream",
          "name": "stdout",
          "text": [
            "[1 2 3]\n"
          ]
        }
      ]
    },
    {
      "cell_type": "code",
      "source": [
        "b = np.array([[9.0,8.0,7.0],[6.0,5.0,4.0]])\n",
        "print(b)"
      ],
      "metadata": {
        "colab": {
          "base_uri": "https://localhost:8080/"
        },
        "id": "fPHAxNj31TUj",
        "outputId": "b63d500e-9222-4b47-e146-957af7bce3f1"
      },
      "execution_count": null,
      "outputs": [
        {
          "output_type": "stream",
          "name": "stdout",
          "text": [
            "[[9. 8. 7.]\n",
            " [6. 5. 4.]]\n"
          ]
        }
      ]
    },
    {
      "cell_type": "code",
      "source": [
        "# Get the dimensions\n",
        "print(\"dimensions of a-> \",a.ndim)\n",
        "print(\"dimensions of b-> \",b.ndim)"
      ],
      "metadata": {
        "colab": {
          "base_uri": "https://localhost:8080/"
        },
        "id": "jil-YUyg1eMj",
        "outputId": "a73ee652-c2df-4930-faa1-1c3c73178bc2"
      },
      "execution_count": null,
      "outputs": [
        {
          "output_type": "stream",
          "name": "stdout",
          "text": [
            "dimensions of a->  1\n",
            "dimensions of b->  2\n"
          ]
        }
      ]
    },
    {
      "cell_type": "code",
      "source": [
        "# Get shape\n",
        "print(\"Shape of a-> \",a.shape)\n",
        "print(\"Shape of b-> \",b.shape)"
      ],
      "metadata": {
        "colab": {
          "base_uri": "https://localhost:8080/"
        },
        "id": "XtWlhLW31pcN",
        "outputId": "ca6a705d-093f-4099-926b-01e4a954528e"
      },
      "execution_count": null,
      "outputs": [
        {
          "output_type": "stream",
          "name": "stdout",
          "text": [
            "Shape of a->  (3,)\n",
            "Shape of b->  (2, 3)\n"
          ]
        }
      ]
    },
    {
      "cell_type": "code",
      "source": [
        "# Get Type\n",
        "print(\"Type of a-> \",a.dtype)\n",
        "print(\"Type of b-> \",b.dtype)"
      ],
      "metadata": {
        "colab": {
          "base_uri": "https://localhost:8080/"
        },
        "id": "8u3PqiWJ19ID",
        "outputId": "77b38398-d253-46fa-8b89-238dca304438"
      },
      "execution_count": null,
      "outputs": [
        {
          "output_type": "stream",
          "name": "stdout",
          "text": [
            "Type of a->  int16\n",
            "Type of b->  float64\n"
          ]
        }
      ]
    },
    {
      "cell_type": "code",
      "source": [
        "# Get size\n",
        "print(\"Size of a->\", a.itemsize)\n",
        "print(\"Size of b->\", b.itemsize)"
      ],
      "metadata": {
        "colab": {
          "base_uri": "https://localhost:8080/"
        },
        "id": "wDp4GBHo2RP0",
        "outputId": "f7b13253-c806-47e4-87bb-113371433c68"
      },
      "execution_count": null,
      "outputs": [
        {
          "output_type": "stream",
          "name": "stdout",
          "text": [
            "Size of a-> 4\n",
            "Size of b-> 8\n"
          ]
        }
      ]
    },
    {
      "cell_type": "code",
      "source": [
        "# Get total size\n",
        "total_size = a.size * a.itemsize\n",
        "print(\"Total size of a-> \",total_size)\n",
        "total_size = b.size * b.itemsize\n",
        "print(\"Total size of b-> \",total_size)"
      ],
      "metadata": {
        "colab": {
          "base_uri": "https://localhost:8080/"
        },
        "id": "RlEOHd882oPQ",
        "outputId": "72a91fe9-7395-4e7f-8f20-8cd92b77c7e6"
      },
      "execution_count": null,
      "outputs": [
        {
          "output_type": "stream",
          "name": "stdout",
          "text": [
            "Total size of a->  12\n",
            "Total size of b->  48\n"
          ]
        }
      ]
    },
    {
      "cell_type": "code",
      "source": [
        "# alternate\n",
        "a.nbytes"
      ],
      "metadata": {
        "colab": {
          "base_uri": "https://localhost:8080/"
        },
        "id": "daa84pmL3BY0",
        "outputId": "868cdb5d-6c3e-4ac5-8f88-5a27f16a9dad"
      },
      "execution_count": null,
      "outputs": [
        {
          "output_type": "execute_result",
          "data": {
            "text/plain": [
              "12"
            ]
          },
          "metadata": {},
          "execution_count": 27
        }
      ]
    },
    {
      "cell_type": "markdown",
      "source": [
        "#### **Accessing/ Changing specific elements, rows, columns, etc.**"
      ],
      "metadata": {
        "id": "LdCYvZMv3cw0"
      }
    },
    {
      "cell_type": "code",
      "source": [
        "a = np.array([[1,2,3,4,5,6,7],[8,9,10,11,12,13,14]])\n",
        "print(a)"
      ],
      "metadata": {
        "colab": {
          "base_uri": "https://localhost:8080/"
        },
        "id": "Wcp50WpU3P5J",
        "outputId": "fab3da06-cb10-4df1-e541-b950f16ac1fd"
      },
      "execution_count": null,
      "outputs": [
        {
          "output_type": "stream",
          "name": "stdout",
          "text": [
            "[[ 1  2  3  4  5  6  7]\n",
            " [ 8  9 10 11 12 13 14]]\n"
          ]
        }
      ]
    },
    {
      "cell_type": "code",
      "source": [
        "# get a specific element [r, c]\n",
        "a[1, 5]"
      ],
      "metadata": {
        "colab": {
          "base_uri": "https://localhost:8080/"
        },
        "id": "sfiDQw1n3ux-",
        "outputId": "e5d918a6-a86b-4a93-c204-eaf3b8542698"
      },
      "execution_count": null,
      "outputs": [
        {
          "output_type": "execute_result",
          "data": {
            "text/plain": [
              "13"
            ]
          },
          "metadata": {},
          "execution_count": 32
        }
      ]
    },
    {
      "cell_type": "code",
      "source": [
        "# Get specific row\n",
        "a[0, :]"
      ],
      "metadata": {
        "colab": {
          "base_uri": "https://localhost:8080/"
        },
        "id": "Z6QV3-wc35tu",
        "outputId": "7cdfee4c-732c-4be0-95c4-9a1cfce2cd62"
      },
      "execution_count": null,
      "outputs": [
        {
          "output_type": "execute_result",
          "data": {
            "text/plain": [
              "array([1, 2, 3, 4, 5, 6, 7])"
            ]
          },
          "metadata": {},
          "execution_count": 33
        }
      ]
    },
    {
      "cell_type": "code",
      "source": [
        "# Get a specific column\n",
        "a[:, 2]"
      ],
      "metadata": {
        "colab": {
          "base_uri": "https://localhost:8080/"
        },
        "id": "8qFkESAj4C2k",
        "outputId": "c32af720-5bdf-46a8-c92a-bf42037ca804"
      },
      "execution_count": null,
      "outputs": [
        {
          "output_type": "execute_result",
          "data": {
            "text/plain": [
              "array([ 3, 10])"
            ]
          },
          "metadata": {},
          "execution_count": 34
        }
      ]
    },
    {
      "cell_type": "code",
      "source": [
        "# Getting a little more fancy [start index: stepsize]\n",
        "# every other element between 2 and 6\n",
        "a[0, 1:-1:2]"
      ],
      "metadata": {
        "colab": {
          "base_uri": "https://localhost:8080/"
        },
        "id": "SmlNGlvz4JUf",
        "outputId": "9bb6643c-f486-4c69-bb9f-83f0bb8a0e21"
      },
      "execution_count": null,
      "outputs": [
        {
          "output_type": "execute_result",
          "data": {
            "text/plain": [
              "array([2, 4, 6])"
            ]
          },
          "metadata": {},
          "execution_count": 38
        }
      ]
    },
    {
      "cell_type": "code",
      "source": [
        "# Changing the specific element value\n",
        "a[1,5] = 20\n",
        "print(a)"
      ],
      "metadata": {
        "colab": {
          "base_uri": "https://localhost:8080/"
        },
        "id": "m1bShEk54n-N",
        "outputId": "f2e0703a-6ff9-4ca0-afc3-9ec9ceff1ff7"
      },
      "execution_count": null,
      "outputs": [
        {
          "output_type": "stream",
          "name": "stdout",
          "text": [
            "[[ 1  2  3  4  5  6  7]\n",
            " [ 8  9 10 11 12 20 14]]\n"
          ]
        }
      ]
    },
    {
      "cell_type": "code",
      "source": [
        "# Chnaing entire column\n",
        "a[:, 2] = [1,2]\n",
        "print(a)"
      ],
      "metadata": {
        "colab": {
          "base_uri": "https://localhost:8080/"
        },
        "id": "FikAfsw84-gY",
        "outputId": "00a6c996-8537-46e6-fbc7-2d975b6c4ead"
      },
      "execution_count": null,
      "outputs": [
        {
          "output_type": "stream",
          "name": "stdout",
          "text": [
            "[[ 1  2  1  4  5  6  7]\n",
            " [ 8  9  2 11 12 20 14]]\n"
          ]
        }
      ]
    },
    {
      "cell_type": "code",
      "source": [
        "# Changing entire row\n",
        "a[1, :] = 5\n",
        "print(a)"
      ],
      "metadata": {
        "colab": {
          "base_uri": "https://localhost:8080/"
        },
        "id": "nRdjch5X5G9U",
        "outputId": "40fa6ce9-dc21-4a41-951d-3a3e512b7c09"
      },
      "execution_count": null,
      "outputs": [
        {
          "output_type": "stream",
          "name": "stdout",
          "text": [
            "[[1 2 1 4 5 6 7]\n",
            " [5 5 5 5 5 5 5]]\n"
          ]
        }
      ]
    },
    {
      "cell_type": "markdown",
      "source": [
        "##### 3d example"
      ],
      "metadata": {
        "id": "fYXxPAT65oi5"
      }
    },
    {
      "cell_type": "code",
      "source": [
        "b = np.array([[[1,2],[3,4]],[[5,6],[7,8]]])\n",
        "print(b)"
      ],
      "metadata": {
        "colab": {
          "base_uri": "https://localhost:8080/"
        },
        "id": "IcuSPWrp5bSF",
        "outputId": "f88e6b08-f8e9-408c-f0a8-d5899197d1ad"
      },
      "execution_count": null,
      "outputs": [
        {
          "output_type": "stream",
          "name": "stdout",
          "text": [
            "[[[1 2]\n",
            "  [3 4]]\n",
            "\n",
            " [[5 6]\n",
            "  [7 8]]]\n"
          ]
        }
      ]
    },
    {
      "cell_type": "code",
      "source": [
        "# Getting specific element (work outside in)\n",
        "# want the 4 in the array\n",
        "print(b[0,1,1])\n",
        "print(\"-------------------------------------\")\n",
        "# Want a specific range of elements\n",
        "print(b[:,1,:])"
      ],
      "metadata": {
        "colab": {
          "base_uri": "https://localhost:8080/"
        },
        "id": "8d8v-Iw75u4x",
        "outputId": "97e8fc89-26cd-4207-c11a-6b2bde582594"
      },
      "execution_count": null,
      "outputs": [
        {
          "output_type": "stream",
          "name": "stdout",
          "text": [
            "4\n",
            "-------------------------------------\n",
            "[[3 4]\n",
            " [7 8]]\n"
          ]
        }
      ]
    },
    {
      "cell_type": "code",
      "source": [
        "# Replace\n",
        "b[:,1,:] = [[9,9],[8,8]]\n",
        "print(b)"
      ],
      "metadata": {
        "colab": {
          "base_uri": "https://localhost:8080/"
        },
        "id": "h207p9Fq6Jw7",
        "outputId": "e8a2646f-3e65-498c-f33f-9067541cc773"
      },
      "execution_count": null,
      "outputs": [
        {
          "output_type": "stream",
          "name": "stdout",
          "text": [
            "[[[1 2]\n",
            "  [9 9]]\n",
            "\n",
            " [[5 6]\n",
            "  [8 8]]]\n"
          ]
        }
      ]
    },
    {
      "cell_type": "markdown",
      "source": [
        "#### **Initialize Different Types of Array**"
      ],
      "metadata": {
        "id": "A4DHaCBq7h6-"
      }
    },
    {
      "cell_type": "code",
      "source": [
        "# All 0s matrix:\n",
        "np.zeros((2,3))"
      ],
      "metadata": {
        "colab": {
          "base_uri": "https://localhost:8080/"
        },
        "id": "3CsUZg_u7G0q",
        "outputId": "676ea0a6-1ccb-4808-db97-2a4f0f5edb89"
      },
      "execution_count": null,
      "outputs": [
        {
          "output_type": "execute_result",
          "data": {
            "text/plain": [
              "array([[0., 0., 0.],\n",
              "       [0., 0., 0.]])"
            ]
          },
          "metadata": {},
          "execution_count": 59
        }
      ]
    },
    {
      "cell_type": "code",
      "source": [
        "# All 1s matrix:\n",
        "np.ones((4,2,2), dtype='int32') # dtype specify the data type of the integer"
      ],
      "metadata": {
        "colab": {
          "base_uri": "https://localhost:8080/"
        },
        "id": "zVQ5xK0h7uG1",
        "outputId": "34b3a439-b828-498e-c08e-549576fe0d86"
      },
      "execution_count": null,
      "outputs": [
        {
          "output_type": "execute_result",
          "data": {
            "text/plain": [
              "array([[[1, 1],\n",
              "        [1, 1]],\n",
              "\n",
              "       [[1, 1],\n",
              "        [1, 1]],\n",
              "\n",
              "       [[1, 1],\n",
              "        [1, 1]],\n",
              "\n",
              "       [[1, 1],\n",
              "        [1, 1]]], dtype=int32)"
            ]
          },
          "metadata": {},
          "execution_count": 62
        }
      ]
    },
    {
      "cell_type": "code",
      "source": [
        "# Any other number\n",
        "# np.full takes mainly 2 parameters -> shape and value# Two parameters -> shape and value\n",
        "# np.full(shape, value)\n",
        "# can have third parameter-> dtype\n",
        "# np.full(shape, value, dtype)\n",
        "np.full((2,2), 99)"
      ],
      "metadata": {
        "colab": {
          "base_uri": "https://localhost:8080/"
        },
        "id": "U1IBx41E78p7",
        "outputId": "5a07775b-39e5-4ded-d021-2d8ad9143b86"
      },
      "execution_count": null,
      "outputs": [
        {
          "output_type": "execute_result",
          "data": {
            "text/plain": [
              "array([[99, 99],\n",
              "       [99, 99]])"
            ]
          },
          "metadata": {},
          "execution_count": 64
        }
      ]
    },
    {
      "cell_type": "code",
      "source": [],
      "metadata": {
        "id": "OGmBUYzD8Qs5"
      },
      "execution_count": null,
      "outputs": []
    }
  ]
}