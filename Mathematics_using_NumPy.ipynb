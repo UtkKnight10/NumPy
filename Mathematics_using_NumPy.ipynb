{
  "nbformat": 4,
  "nbformat_minor": 0,
  "metadata": {
    "colab": {
      "provenance": [],
      "authorship_tag": "ABX9TyNdt64AU/8Hq4weG0Yz4tms",
      "include_colab_link": true
    },
    "kernelspec": {
      "name": "python3",
      "display_name": "Python 3"
    },
    "language_info": {
      "name": "python"
    }
  },
  "cells": [
    {
      "cell_type": "markdown",
      "metadata": {
        "id": "view-in-github",
        "colab_type": "text"
      },
      "source": [
        "<a href=\"https://colab.research.google.com/github/UtkKnight10/NumPy/blob/main/Mathematics_using_NumPy.ipynb\" target=\"_parent\"><img src=\"https://colab.research.google.com/assets/colab-badge.svg\" alt=\"Open In Colab\"/></a>"
      ]
    },
    {
      "cell_type": "code",
      "execution_count": 1,
      "metadata": {
        "id": "bUR25biiGhA3"
      },
      "outputs": [],
      "source": [
        "import numpy as np\n",
        "import sys"
      ]
    },
    {
      "cell_type": "markdown",
      "source": [
        "## **Mathematics using NumPy**"
      ],
      "metadata": {
        "id": "KQv6pm3hGnpp"
      }
    },
    {
      "cell_type": "code",
      "source": [],
      "metadata": {
        "id": "nfqm9qXuGk_K"
      },
      "execution_count": null,
      "outputs": []
    }
  ]
}